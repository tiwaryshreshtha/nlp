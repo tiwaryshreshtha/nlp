{
  "nbformat": 4,
  "nbformat_minor": 0,
  "metadata": {
    "colab": {
      "provenance": [],
      "include_colab_link": true
    },
    "kernelspec": {
      "name": "python3",
      "display_name": "Python 3"
    },
    "language_info": {
      "name": "python"
    }
  },
  "cells": [
    {
      "cell_type": "markdown",
      "metadata": {
        "id": "view-in-github",
        "colab_type": "text"
      },
      "source": [
        "<a href=\"https://colab.research.google.com/github/tiwaryshreshtha/nlp/blob/main/Copy_of_AIandVisualizationLab.ipynb\" target=\"_parent\"><img src=\"https://colab.research.google.com/assets/colab-badge.svg\" alt=\"Open In Colab\"/></a>"
      ]
    },
    {
      "cell_type": "markdown",
      "source": [
        "#1 Techniques for data preprocessing : Mean Removal, Scaling, Normalization"
      ],
      "metadata": {
        "id": "pKXFlH-19_Wr"
      }
    },
    {
      "cell_type": "code",
      "source": [
        "#Mean Removal\n",
        "import csv\n",
        "import statistics\n",
        "def remove_mean(input_file,output_file):\n",
        "  with open(input_file,'r') as file:\n",
        "    reader = csv.reader(file)\n",
        "    data = [float(row[0]) for row in reader]\n",
        "  mean_value = statistics.mean(data)\n",
        "  mean_removed_data = [x-mean_value for x in data]\n",
        "  with open(output_file,'w',newline='') as file:\n",
        "      writer = csv.writer(file)\n",
        "      for value in mean_removed_data:\n",
        "        writer.writerow([value])\n",
        "if __name__ == \"__main__\":\n",
        "    input_file = \"data.csv\"\n",
        "    output_file = \"mean_removed_data.csv\"\n",
        "    remove_mean(input_file,output_file)"
      ],
      "metadata": {
        "id": "WGjkCyEF9_kz"
      },
      "execution_count": null,
      "outputs": []
    },
    {
      "cell_type": "code",
      "source": [
        "#Scaling\n",
        "import csv\n",
        "def min_max_scaling(input_file,output_file,new_min=0,new_max=1):\n",
        "  with open(input_file,'r') as file:\n",
        "    reader = csv.reader(file)\n",
        "    data = [float(row[0]) for row in reader]\n",
        "  current_min = min(data)\n",
        "  current_max = max(data)\n",
        "  scaled_data = [(x - current_min) / (current_max - current_min) * (new_max - new_min) + new_min for x in data]\n",
        "  with open(output_file,'w',newline='') as file:\n",
        "    writer = csv.writer(file)\n",
        "    for value in scaled_data:\n",
        "      writer.writerow([value])\n",
        "if __name__ == \"__main__\":\n",
        "  input_file = \"data.csv\"\n",
        "  output_file = \"scaled_data.csv\"\n",
        "  min_max_scaling(input_file,output_file)"
      ],
      "metadata": {
        "id": "lWtLCLy0JfrP"
      },
      "execution_count": null,
      "outputs": []
    },
    {
      "cell_type": "code",
      "source": [
        "#Normalization\n",
        "import csv\n",
        "import statistics\n",
        "\n",
        "def z_score(input_file, output_file):\n",
        "    with open(input_file, 'r') as file:\n",
        "        reader = csv.reader(file)\n",
        "        data = [float(row[0]) for row in reader]\n",
        "\n",
        "    mean_value = statistics.mean(data)\n",
        "    std_deviation = statistics.stdev(data)\n",
        "\n",
        "    normalized_data = [(x - mean_value) / std_deviation for x in data]\n",
        "\n",
        "    with open(output_file, 'w', newline='') as file:\n",
        "        writer = csv.writer(file)\n",
        "        for value in normalized_data:\n",
        "            writer.writerow([value])\n",
        "\n",
        "if __name__ == \"__main__\":\n",
        "    input_file = \"data.csv\"\n",
        "    output_file = \"normalized_data.csv\"\n",
        "    z_score(input_file, output_file)"
      ],
      "metadata": {
        "id": "h4xFU3MhgLFO"
      },
      "execution_count": null,
      "outputs": []
    },
    {
      "cell_type": "markdown",
      "source": [
        "#2 Classification techniques : Naive Bayes Classifier, SVM, Logistic Regression, Decision Tree, Random Forest"
      ],
      "metadata": {
        "id": "E68bDd-a-Yu3"
      }
    },
    {
      "cell_type": "code",
      "source": [
        "#Naive Bayes Classifier\n",
        "import pandas as pd\n",
        "f = pd.DataFrame({'Weather':['Sunny','Rainy','Sunny','Sunny'],'Wind':['Mild','Mild','High','Mild'],'Temp':['Moderate','Mild','Moderate','Mild'],'go':['Yes','No','Yes','Yes']})\n",
        "print(f.columns)\n",
        "from sklearn.naive_bayes import GaussianNB as g\n",
        "from sklearn.preprocessing import LabelEncoder as le\n",
        "from sklearn.model_selection import train_test_split as tt\n",
        "l=le()\n",
        "for i in f.columns:\n",
        "  f[i]=l.fit_transform(f[i])\n",
        "  x=f.iloc[:,:3]\n",
        "  y=f.iloc[:,3]\n",
        "xtr,xte,ytr,yte=tt(x,y,test_size=0.3)\n",
        "gg=g()\n",
        "gg.fit(xtr,ytr)\n",
        "y_pred=gg.predict(xte)\n",
        "from sklearn.metrics import accuracy_score\n",
        "print(accuracy_score(yte,y_pred))"
      ],
      "metadata": {
        "colab": {
          "base_uri": "https://localhost:8080/"
        },
        "id": "NC8FAwe23pE7",
        "outputId": "350c5fef-704e-40dd-ea90-8e4160c39e32"
      },
      "execution_count": null,
      "outputs": [
        {
          "output_type": "stream",
          "name": "stdout",
          "text": [
            "Index(['Weather', 'Wind', 'Temp', 'go'], dtype='object')\n",
            "1.0\n"
          ]
        }
      ]
    },
    {
      "cell_type": "code",
      "source": [
        "#SVM\n",
        "import numpy as np\n",
        "import matplotlib.pyplot as plt\n",
        "import pandas as pd\n",
        "dataset = pd.read_csv(\"/content/Social_Network _Ads.csv\")\n",
        "X = dataset.iloc[:,[2,3]].values\n",
        "y = dataset.iloc[:,4].values\n",
        "from sklearn.model_selection import train_test_split\n",
        "X_train,X_test,y_train,y_test=train_test_split(X,y,test_size=0.25,random_state=0)\n",
        "from sklearn.preprocessing import StandardScaler\n",
        "sc=StandardScaler()\n",
        "X_train = sc.fit_transform(X_train)\n",
        "X_test = sc.transform(X_test)\n",
        "from sklearn.svm import SVC\n",
        "classifier = SVC(kernel='rbf',random_state=0)\n",
        "classifier.fit(X_train,y_train)\n",
        "y_pred = classifier.predict(X_test)\n",
        "from sklearn.metrics import confusion_matrix,accuracy_score\n",
        "cm = confusion_matrix(y_test,y_pred)\n",
        "print(cm)\n",
        "accuracy_score(y_test,y_pred)\n",
        "from matplotlib.colors import ListedColormap\n",
        "X_set, y_set = X_test, y_test\n",
        "X1,X2 = np.meshgrid(np.arange(start = X_set[:,0].min()-1,stop=X_set[:,0].max()+1,step=0.01),np.arange(start=X_set[:,1].min()-1,stop=X_set[:,1].max()+1,step=0.01))\n",
        "plt.contourf(X1,X2,classifier.predict(np.array([X1.ravel(),X2.ravel()]).T).reshape(X1.shape),alpha=0.75,cmap=ListedColormap(('red','green')))\n",
        "plt.xlim(X1.min(),X1.max())\n",
        "plt.ylim(X2.min(),X2.max())\n",
        "for i,j in enumerate(np.unique(y_set)):\n",
        "  plt.scatter(X_set[y_set == j,0],X_set[y_set == j,1],c=ListedColormap(('pink','green'))(i),label=j)\n",
        "  plt.title('SVM (Test set)')\n",
        "  plt.xlabel('Age')\n",
        "  plt.ylabel('Estimated Salary')\n",
        "  plt.legend()\n",
        "  plt.show()"
      ],
      "metadata": {
        "id": "RMP3vcZo9r8s",
        "colab": {
          "base_uri": "https://localhost:8080/",
          "height": 1000
        },
        "outputId": "137b1da8-dab0-4fb7-e239-5b904b5be2e1"
      },
      "execution_count": null,
      "outputs": [
        {
          "output_type": "stream",
          "name": "stdout",
          "text": [
            "[[64  4]\n",
            " [ 3 29]]\n"
          ]
        },
        {
          "output_type": "stream",
          "name": "stderr",
          "text": [
            "<ipython-input-8-c94649d1a075>:29: UserWarning: *c* argument looks like a single numeric RGB or RGBA sequence, which should be avoided as value-mapping will have precedence in case its length matches with *x* & *y*.  Please use the *color* keyword-argument or provide a 2D array with a single row if you intend to specify the same RGB or RGBA value for all points.\n",
            "  plt.scatter(X_set[y_set == j,0],X_set[y_set == j,1],c=ListedColormap(('pink','green'))(i),label=j)\n"
          ]
        },
        {
          "output_type": "display_data",
          "data": {
            "text/plain": [
              "<Figure size 640x480 with 1 Axes>"
            ],
            "image/png": "[encoded data removed]"
          },
          "metadata": {}
        },
        {
          "output_type": "display_data",
          "data": {
            "text/plain": [
              "<Figure size 640x480 with 1 Axes>"
            ],
            "image/png": "[encoded data removed]"
          },
          "metadata": {}
        }
      ]
    },
    {
      "cell_type": "code",
      "source": [
        "#Logistic Regression\n",
        "import pandas as pd\n",
        "import numpy as np\n",
        "import matplotlib.pyplot as plt\n",
        "from sklearn.model_selection import train_test_split\n",
        "from sklearn.preprocessing import StandardScaler\n",
        "from sklearn.linear_model import LogisticRegression\n",
        "from sklearn.metrics import confusion_matrix\n",
        "from sklearn.metrics import accuracy_score\n",
        "from matplotlib.colors import ListedColormap\n",
        "dataset = pd.read_csv(\"/content/diabetes.csv\")\n",
        "x = dataset.iloc[:,[4,7]].values\n",
        "y = dataset.iloc[:,8].values\n",
        "xtrain,xtest,ytrain,ytest = train_test_split(x,y,test_size=0.25,random_state=0)\n",
        "sc_x = StandardScaler()\n",
        "xtrain = sc_x.fit_transform(xtrain)\n",
        "xtest = sc_x.transform(xtest)\n",
        "print(xtrain[0:10,:])\n",
        "classifier = LogisticRegression(random_state=0)\n",
        "classifier.fit(xtrain,ytrain)\n",
        "y_pred = classifier.predict(xtest)\n",
        "cm = confusion_matrix(ytest,y_pred)\n",
        "print(\"Confusion Matrix:\\n\",cm)\n",
        "print(\"Accuracy: \",accuracy_score(ytest,y_pred))\n",
        "X_set,y_set = xtest,ytest\n",
        "X1,X2 = np.meshgrid(np.arange(start=X_set[:,0].min()-1,stop=X_set[:,0].max()+1,step=0.01),np.arange(start=X_set[:,1].min()-1,stop=X_set[:,1].max()+1,step=0.01))\n",
        "plt.contourf(X1,X2,classifier.predict(np.array([X1.ravel(),X2.ravel()]).T).reshape(X1.shape),alpha=0.75,cmap=ListedColormap(('red','green')))\n",
        "plt.xlim(X1.min(),X1.max())\n",
        "plt.ylim(X2.min(),X2.max())\n",
        "for i,j in enumerate(np.unique(y_set)):\n",
        "  plt.scatter(X_set[y_set==j,0],X_set[y_set==j,1],c = ListedColormap(('red','green'))(i),label=j)\n",
        "  plt.title('Classsifier(Test set)')\n",
        "  plt.xlabel('Age')\n",
        "  plt.ylabel('Diabetes')\n",
        "  plt.legend()\n",
        "  plt.show()"
      ],
      "metadata": {
        "id": "qeU9vndEnk9R",
        "colab": {
          "base_uri": "https://localhost:8080/",
          "height": 1000
        },
        "outputId": "7afdbec6-b15f-48a1-dbd5-a1ccf8e33a3d"
      },
      "execution_count": null,
      "outputs": [
        {
          "output_type": "stream",
          "name": "stdout",
          "text": [
            "[[ 0.28085796 -0.67204882]\n",
            " [ 1.35876151  0.40496103]\n",
            " [-0.81313372  0.20914106]\n",
            " [-0.43506306 -0.86786879]\n",
            " [-0.99010296 -0.47622884]\n",
            " [-0.57181202  0.40496103]\n",
            " [ 0.07171249  1.77570083]\n",
            " [-0.3546225  -0.57413883]\n",
            " [-0.99010296 -0.67204882]\n",
            " [-0.3546225  -0.28040887]]\n",
            "Confusion Matrix:\n",
            " [[62  3]\n",
            " [18 15]]\n",
            "Accuracy:  0.7857142857142857\n"
          ]
        },
        {
          "output_type": "stream",
          "name": "stderr",
          "text": [
            "<ipython-input-10-5b93f1d2dcf6>:31: UserWarning: *c* argument looks like a single numeric RGB or RGBA sequence, which should be avoided as value-mapping will have precedence in case its length matches with *x* & *y*.  Please use the *color* keyword-argument or provide a 2D array with a single row if you intend to specify the same RGB or RGBA value for all points.\n",
            "  plt.scatter(X_set[y_set==j,0],X_set[y_set==j,1],c = ListedColormap(('red','green'))(i),label=j)\n"
          ]
        },
        {
          "output_type": "display_data",
          "data": {
            "text/plain": [
              "<Figure size 640x480 with 1 Axes>"
            ],
            "image/png": "[encoded data removed]"
          },
          "metadata": {}
        },
        {
          "output_type": "display_data",
          "data": {
            "text/plain": [
              "<Figure size 640x480 with 1 Axes>"
            ],
            "image/png": "[encoded data removed]"
          },
          "metadata": {}
        }
      ]
    },
    {
      "cell_type": "code",
      "source": [
        "#Decision Tree\n",
        "import pandas as pd\n",
        "import math\n",
        "import numpy as np\n",
        "\n",
        "data = pd.read_csv(\"3-dataset.csv\")\n",
        "features = [feat for feat in data]\n",
        "features.remove(\"answer\")\n",
        "\n",
        "class Node:\n",
        "    def __init__(self):\n",
        "        self.children = []\n",
        "        self.value = \"\"\n",
        "        self.isLeaf = False\n",
        "        self.pred = \"\"\n",
        "def entropy(examples):\n",
        "    pos = 0.0\n",
        "    neg = 0.0\n",
        "    for _, row in examples.iterrows():\n",
        "        if row[\"answer\"] == \"yes\":\n",
        "            pos += 1\n",
        "        else:\n",
        "            neg += 1\n",
        "    if pos == 0.0 or neg == 0.0:\n",
        "        return 0.0\n",
        "    else:\n",
        "        p = pos / (pos + neg)\n",
        "        n = neg / (pos + neg)\n",
        "        return -(p * math.log(p, 2) + n * math.log(n, 2))\n",
        "\n",
        "\n",
        "def info_gain(examples, attr):\n",
        "    uniq = np.unique(examples[attr])\n",
        "    gain = entropy(examples)\n",
        "    for u in uniq:\n",
        "        subdata = examples[examples[attr] == u]\n",
        "        sub_e = entropy(subdata)\n",
        "        gain -= (float(len(subdata)) / float(len(examples))) * sub_e\n",
        "    return gain\n",
        "\n",
        "def ID3(examples, attrs):\n",
        "    root = Node()\n",
        "\n",
        "    max_gain = 0\n",
        "    max_feat = \"\"\n",
        "    for feature in attrs:\n",
        "        gain = info_gain(examples, feature)\n",
        "        if gain > max_gain:\n",
        "            max_gain = gain\n",
        "            max_feat = feature\n",
        "    root.value = max_feat\n",
        "    uniq = np.unique(examples[max_feat])\n",
        "    for u in uniq:\n",
        "        subdata = examples[examples[max_feat] == u]\n",
        "        if entropy(subdata) == 0.0:\n",
        "            newNode = Node()\n",
        "            newNode.isLeaf = True\n",
        "            newNode.value = u\n",
        "            newNode.pred = np.unique(subdata[\"answer\"])\n",
        "            root.children.append(newNode)\n",
        "        else:\n",
        "            dummyNode = Node()\n",
        "            dummyNode.value = u\n",
        "            new_attrs = attrs.copy()\n",
        "            new_attrs.remove(max_feat)\n",
        "            child = ID3(subdata, new_attrs)\n",
        "            dummyNode.children.append(child)\n",
        "            root.children.append(dummyNode)\n",
        "\n",
        "    return root\n",
        "\n",
        "def printTree(root: Node, depth=0):\n",
        "    for i in range(depth):\n",
        "        print(\"\\t\", end=\"\")\n",
        "    print(root.value, end=\"\")\n",
        "    if root.isLeaf:\n",
        "        print(\" -> \", root.pred)\n",
        "    print()\n",
        "    for child in root.children:\n",
        "        printTree(child, depth + 1)\n",
        "\n",
        "def classify(root: Node, new):\n",
        "    for child in root.children:\n",
        "        if child.value == new[root.value]:\n",
        "            if child.isLeaf:\n",
        "                print (\"Predicted Label for new example\", new,\" is:\", child.pred)\n",
        "                exit\n",
        "            else:\n",
        "                classify (child.children[0], new)\n",
        "\n",
        "root = ID3(data, features)\n",
        "print(\"Decision Tree is:\")\n",
        "printTree(root)\n",
        "print (\"------------------\")\n",
        "\n",
        "new = {\"outlook\":\"sunny\", \"temperature\":\"hot\", \"humidity\":\"normal\", \"wind\":\"strong\"}\n",
        "classify (root, new)"
      ],
      "metadata": {
        "colab": {
          "base_uri": "https://localhost:8080/"
        },
        "id": "ibozAWcY_Wvq",
        "outputId": "899470c8-fae4-4464-af22-2647fb2355d0"
      },
      "execution_count": null,
      "outputs": [
        {
          "output_type": "stream",
          "name": "stdout",
          "text": [
            "Decision Tree is:\n",
            "outlook\n",
            "\tovercast ->  ['yes']\n",
            "\n",
            "\toverlook ->  ['yes']\n",
            "\n",
            "\train\n",
            "\t\twind\n",
            "\t\t\tstrong ->  ['no']\n",
            "\n",
            "\t\t\tweak ->  ['yes']\n",
            "\n",
            "\tsunny\n",
            "\t\thumidity\n",
            "\t\t\thigh ->  ['no']\n",
            "\n",
            "\t\t\tnormal ->  ['yes']\n",
            "\n",
            "------------------\n",
            "Predicted Label for new example {'outlook': 'sunny', 'temperature': 'hot', 'humidity': 'normal', 'wind': 'strong'}  is: ['yes']\n"
          ]
        }
      ]
    },
    {
      "cell_type": "code",
      "source": [
        "#Random Forest\n",
        "import pandas as pd\n",
        "data=pd.read_csv(\"heart.csv\")\n",
        "X =data.iloc[:,[1,2,3,4,5,6,7,8,9,10,11,12]].values\n",
        "y =data.iloc[:,13].values\n",
        "from sklearn.model_selection import train_test_split\n",
        "X_train, X_test, y_train, y_test = train_test_split(X, y, test_size=0.3, random_state=1)\n",
        "from sklearn.ensemble import RandomForestClassifier\n",
        "rfc=RandomForestClassifier()\n",
        "rfc.fit(X_train, y_train)\n",
        "y_pred=rfc.predict(X_test)\n",
        "from sklearn import metrics\n",
        "print(\"Classification Accuracy:\", metrics.accuracy_score(y_test, y_pred)*100)\n",
        "cm=metrics.confusion_matrix(y_test,y_pred)\n",
        "print(cm)\n",
        "import seaborn as sn\n",
        "from matplotlib import pyplot as plt\n",
        "plt.figure(figsize=(5,4))\n",
        "sn.heatmap(cm,annot=True)\n",
        "plt.xlabel('Predicted value')\n",
        "plt.ylabel('Actual value')\n",
        "plt.show()"
      ],
      "metadata": {
        "colab": {
          "base_uri": "https://localhost:8080/",
          "height": 440
        },
        "id": "rv-7erWTBrPD",
        "outputId": "fd582898-80ad-4def-89f7-dae6342e4fbb"
      },
      "execution_count": null,
      "outputs": [
        {
          "output_type": "stream",
          "name": "stdout",
          "text": [
            "Classification Accuracy: 98.7012987012987\n",
            "[[157   4]\n",
            " [  0 147]]\n"
          ]
        },
        {
          "output_type": "display_data",
          "data": {
            "text/plain": [
              "<Figure size 500x400 with 2 Axes>"
            ],
            "image/png": "[encoded data removed]"
          },
          "metadata": {}
        }
      ]
    },
    {
      "cell_type": "markdown",
      "source": [
        "3 K-Means clustering Algorithm"
      ],
      "metadata": {
        "id": "-jhp36hskZBF"
      }
    },
    {
      "cell_type": "code",
      "source": [
        "import pandas as pd\n",
        "import numpy as np\n",
        "import matplotlib.pyplot as plt\n",
        "import seaborn as sns\n",
        "from sklearn.cluster import KMeans\n",
        "from sklearn.metrics import silhouette_score\n",
        "from sklearn.preprocessing import MinMaxScaler\n",
        "iris = pd.read_csv(\"Iris1.csv\")\n",
        "x = iris.iloc[:, [ 1,2,3,4]].values\n",
        "\n",
        "from sklearn.cluster import KMeans\n",
        "wcss = []\n",
        "\n",
        "for i in range(1, 11):\n",
        "    kmeans = KMeans(n_clusters = i, init = 'k-means++', max_iter = 300, n_init = 10, random_state = 0)\n",
        "    kmeans.fit(x)\n",
        "    wcss.append(kmeans.inertia_)\n",
        "\n",
        "\n",
        "kmeans = KMeans(n_clusters = 3, init = 'k-means++', max_iter = 300, n_init = 10, random_state = 0)\n",
        "y_kmeans = kmeans.fit_predict(x)\n",
        "plt.scatter(x[y_kmeans == 0, 0], x[y_kmeans == 0, 1], s = 100, c = 'blue', label = 'Iris-setosa')\n",
        "plt.scatter(x[y_kmeans == 1, 0], x[y_kmeans == 1, 1], s = 100, c = 'orange', label = 'Iris-versicolour')\n",
        "plt.scatter(x[y_kmeans == 2, 0], x[y_kmeans == 2, 1], s = 100, c = 'green', label = 'Iris-virginica')\n",
        "plt.scatter(kmeans.cluster_centers_[:, 0], kmeans.cluster_centers_[:,1], s = 100, c = 'red', label = 'Centroids')\n",
        "\n",
        "plt.legend()\n",
        "\n",
        "plt.show()\n"
      ],
      "metadata": {
        "colab": {
          "base_uri": "https://localhost:8080/",
          "height": 430
        },
        "id": "znxRmc2GkfrU",
        "outputId": "609a99f1-72e6-43a2-c300-0f81d8c10d11"
      },
      "execution_count": null,
      "outputs": [
        {
          "output_type": "display_data",
          "data": {
            "text/plain": [
              "<Figure size 640x480 with 1 Axes>"
            ],
            "image/png": "[encoded data removed]"
          },
          "metadata": {}
        }
      ]
    },
    {
      "cell_type": "markdown",
      "source": [
        "5 Bulding bag of words model using NLTK"
      ],
      "metadata": {
        "id": "apGBj-gUHcGT"
      }
    },
    {
      "cell_type": "code",
      "source": [
        "import nltk\n",
        "from nltk.corpus import stopwords\n",
        "from nltk.tokenize import word_tokenize\n",
        "from nltk.probability import FreqDist\n",
        "\n",
        "nltk.download('punkt')\n",
        "nltk.download('stopwords')\n",
        "\n",
        "def preprocess_text(text):\n",
        "    stop_words = set(stopwords.words('english'))\n",
        "    word_tokens = word_tokenize(text)\n",
        "    filtered_words = [word.lower() for word in word_tokens if word.isalpha() and word.lower() not in stop_words]\n",
        "    return filtered_words\n",
        "\n",
        "def create_bow_model(texts):\n",
        "    all_words = []\n",
        "    for text in texts:\n",
        "        words = preprocess_text(text)\n",
        "        all_words.extend(words)\n",
        "\n",
        "    word_freq = FreqDist(all_words)\n",
        "    bow_model = {word: freq for word, freq in word_freq.items()}\n",
        "    return bow_model\n",
        "\n",
        "# Example usage\n",
        "texts = [\n",
        "    \"The cat sat on the mat, and the mat was comfortable.\",\n",
        "    \"She sang a sweet song, a song that touched everyone's heart.\",\n",
        "    \"Coding coding can be challenging, but coding is also incredibly rewarding.\",\n",
        "]\n",
        "\n",
        "bow_model = create_bow_model(texts)\n",
        "\n",
        "# Print the Bag of Words model\n",
        "print(\"Bag of Words Model:\")\n",
        "for word, freq in bow_model.items():\n",
        "    print(f\"{word}: {freq}\")\n"
      ],
      "metadata": {
        "colab": {
          "base_uri": "https://localhost:8080/"
        },
        "id": "-0c5464vHPsN",
        "outputId": "439da9d0-e041-4a2f-fcd4-cd209d771e10"
      },
      "execution_count": null,
      "outputs": [
        {
          "output_type": "stream",
          "name": "stdout",
          "text": [
            "Bag of Words Model:\n",
            "cat: 1\n",
            "sat: 1\n",
            "mat: 2\n",
            "comfortable: 1\n",
            "sang: 1\n",
            "sweet: 1\n",
            "song: 2\n",
            "touched: 1\n",
            "everyone: 1\n",
            "heart: 1\n",
            "coding: 3\n",
            "challenging: 1\n",
            "also: 1\n",
            "incredibly: 1\n",
            "rewarding: 1\n"
          ]
        },
        {
          "output_type": "stream",
          "name": "stderr",
          "text": [
            "[nltk_data] Downloading package punkt to /root/nltk_data...\n",
            "[nltk_data]   Package punkt is already up-to-date!\n",
            "[nltk_data] Downloading package stopwords to /root/nltk_data...\n",
            "[nltk_data]   Package stopwords is already up-to-date!\n"
          ]
        }
      ]
    },
    {
      "cell_type": "markdown",
      "source": [
        "6 Identifying patterns in text data"
      ],
      "metadata": {
        "id": "cJGdtafK475A"
      }
    },
    {
      "cell_type": "code",
      "source": [
        "import csv\n",
        "import re\n",
        "\n",
        "def identify_patterns(csv_file_path, column_name):\n",
        "    patterns = {}\n",
        "\n",
        "    with open(csv_file_path, 'r') as csvfile:\n",
        "        reader = csv.DictReader(csvfile)\n",
        "\n",
        "        for row in reader:\n",
        "            text = row[column_name]\n",
        "\n",
        "            # Example pattern: finding words that start with 'pattern'\n",
        "            pattern_matches = re.findall(r'Female', text, flags=re.IGNORECASE)\n",
        "\n",
        "            # Update patterns dictionary with matches\n",
        "            for match in pattern_matches:\n",
        "                if match in patterns:\n",
        "                    patterns[match] += 1\n",
        "                else:\n",
        "                    patterns[match] = 1\n",
        "\n",
        "    return patterns\n",
        "csv_file_path = '2b Social_Network _Ads.csv'  # Update with your CSV file path\n",
        "column_name = 'Gender'     # Update with the actual column name in your CSV file\n",
        "\n",
        "result = identify_patterns(csv_file_path, column_name)\n",
        "\n",
        "# Display the identified patterns and their counts\n",
        "for pattern, count in result.items():\n",
        "    print(f\"Pattern: {pattern}, Count: {count}\")"
      ],
      "metadata": {
        "id": "KrAGl_mz47_h",
        "colab": {
          "base_uri": "https://localhost:8080/"
        },
        "outputId": "4a990023-3069-47b5-fdf0-364b7bc5d901"
      },
      "execution_count": null,
      "outputs": [
        {
          "output_type": "stream",
          "name": "stdout",
          "text": [
            "Pattern: Female, Count: 204\n"
          ]
        }
      ]
    },
    {
      "cell_type": "code",
      "source": [
        "!pip install hmmlearn"
      ],
      "metadata": {
        "colab": {
          "base_uri": "https://localhost:8080/"
        },
        "id": "QTf-RHzdCXCW",
        "outputId": "09d70f1b-d9cb-4ff3-f791-35e0cdf97e56"
      },
      "execution_count": null,
      "outputs": [
        {
          "output_type": "stream",
          "name": "stdout",
          "text": [
            "Collecting hmmlearn\n",
            "  Downloading hmmlearn-0.3.0-cp310-cp310-manylinux_2_17_x86_64.manylinux2014_x86_64.whl (160 kB)\n",
            "\u001b[?25l     \u001b[90m━━━━━━━━━━━━━━━━━━━━━━━━━━━━━━━━━━━━━━━━\u001b[0m \u001b[32m0.0/160.4 kB\u001b[0m \u001b[31m?\u001b[0m eta \u001b[36m-:--:--\u001b[0m\r\u001b[2K     \u001b[91m━━━━━━━━━━━━━━━━━━━━━━\u001b[0m\u001b[91m╸\u001b[0m\u001b[90m━━━━━━━━━━━━━━━━━\u001b[0m \u001b[32m92.2/160.4 kB\u001b[0m \u001b[31m2.4 MB/s\u001b[0m eta \u001b[36m0:00:01\u001b[0m\r\u001b[2K     \u001b[90m━━━━━━━━━━━━━━━━━━━━━━━━━━━━━━━━━━━━━━━━\u001b[0m \u001b[32m160.4/160.4 kB\u001b[0m \u001b[31m3.1 MB/s\u001b[0m eta \u001b[36m0:00:00\u001b[0m\n",
            "\u001b[?25hRequirement already satisfied: numpy>=1.10 in /usr/local/lib/python3.10/dist-packages (from hmmlearn) (1.25.2)\n",
            "Requirement already satisfied: scikit-learn!=0.22.0,>=0.16 in /usr/local/lib/python3.10/dist-packages (from hmmlearn) (1.2.2)\n",
            "Requirement already satisfied: scipy>=0.19 in /usr/local/lib/python3.10/dist-packages (from hmmlearn) (1.11.4)\n",
            "Requirement already satisfied: joblib>=1.1.1 in /usr/local/lib/python3.10/dist-packages (from scikit-learn!=0.22.0,>=0.16->hmmlearn) (1.3.2)\n",
            "Requirement already satisfied: threadpoolctl>=2.0.0 in /usr/local/lib/python3.10/dist-packages (from scikit-learn!=0.22.0,>=0.16->hmmlearn) (3.3.0)\n",
            "Installing collected packages: hmmlearn\n",
            "Successfully installed hmmlearn-0.3.0\n"
          ]
        }
      ]
    },
    {
      "cell_type": "markdown",
      "source": [
        "7 Hidden Markov Model"
      ],
      "metadata": {
        "id": "H7o-IizoCQnU"
      }
    },
    {
      "cell_type": "code",
      "source": [
        "import numpy as np\n",
        "from hmmlearn import hmm\n",
        "\n",
        "# Step 1: Define Model Parameters\n",
        "n_states = 2  # Number of hidden states (Rainy and Sunny)\n",
        "\n",
        "# Transition matrix (A): Probability of transitioning from one state to another\n",
        "trans_matrix = np.array([[0.7, 0.3], [0.4, 0.6]])\n",
        "\n",
        "# Emission matrix (B): Probability of observing an emission given the current state\n",
        "emission_matrix = np.array([[0.1, 0.4, 0.5], [0.6, 0.3, 0.1]])\n",
        "\n",
        "# Initial state probabilities (π): Probability distribution of starting in each state\n",
        "initial_probs = np.array([0.6, 0.4])\n",
        "\n",
        "# Step 2: Create HMM Model\n",
        "model = hmm.MultinomialHMM(n_components=n_states,\n",
        "                           startprob_prior=initial_probs,\n",
        "                           transmat_prior=trans_matrix,\n",
        "                           n_iter=100)\n",
        "\n",
        "# Step 3: Generate Training Data (for simplicity, you can use a pre-existing dataset)\n",
        "# Observations: 0 - Umbrella, 1 - Jacket, 2 - T-shirt\n",
        "train_data = np.array([[0, 1, 2, 0, 1, 2, 0, 2, 1]])\n",
        "\n",
        "# Reshape the array if needed\n",
        "train_data = train_data.reshape(-1, 1)\n",
        "\n",
        "# Step 4: Fit the Model\n",
        "model.fit(train_data)\n",
        "\n",
        "# Step 5: Predict States for a New Sequence\n",
        "new_data = np.array([[0, 2, 1]])  # Umbrella, T-shirt, Jacket\n",
        "new_data = new_data.reshape(-1, 1)\n",
        "predicted_states = model.predict(new_data)\n",
        "\n",
        "# Map numerical predictions to weather states\n",
        "weather_states = ['Rainy', 'Sunny']\n",
        "predicted_states_text = [weather_states[state] for state in predicted_states]\n",
        "\n",
        "# Display Results\n",
        "print(\"Predicted Weather States:\", predicted_states_text)"
      ],
      "metadata": {
        "colab": {
          "base_uri": "https://localhost:8080/"
        },
        "id": "cgzeX2nMCTf2",
        "outputId": "dbe44db8-b693-4f66-9d72-e2e8a5cac7f2"
      },
      "execution_count": null,
      "outputs": [
        {
          "output_type": "stream",
          "name": "stderr",
          "text": [
            "WARNING:hmmlearn.hmm:MultinomialHMM has undergone major changes. The previous version was implementing a CategoricalHMM (a special case of MultinomialHMM). This new implementation follows the standard definition for a Multinomial distribution (e.g. as in https://en.wikipedia.org/wiki/Multinomial_distribution). See these issues for details:\n",
            "https://github.com/hmmlearn/hmmlearn/issues/335\n",
            "https://github.com/hmmlearn/hmmlearn/issues/340\n"
          ]
        },
        {
          "output_type": "stream",
          "name": "stdout",
          "text": [
            "Predicted Weather States: ['Sunny', 'Rainy', 'Sunny']\n"
          ]
        }
      ]
    },
    {
      "cell_type": "markdown",
      "source": [
        "8 Heuristic Search"
      ],
      "metadata": {
        "id": "lcCZqovHLVMZ"
      }
    },
    {
      "cell_type": "code",
      "source": [
        "def aStarAlgo(start_node, stop_node):\n",
        "\n",
        "        open_set = set(start_node)\n",
        "        closed_set = set()\n",
        "        g = {} #store distance from starting node\n",
        "        parents = {}# parents contains an adjacency map of all nodes\n",
        "\n",
        "        #ditance of starting node from itself is zero\n",
        "        g[start_node] = 0\n",
        "        #start_node is root node i.e it has no parent nodes\n",
        "        #so start_node is set to its own parent node\n",
        "        parents[start_node] = start_node\n",
        "\n",
        "\n",
        "        while len(open_set) > 0:\n",
        "            n = None\n",
        "\n",
        "            #node with lowest f() is found\n",
        "            for v in open_set:\n",
        "                if n == None or g[v] + heuristic(v) < g[n] + heuristic(n):\n",
        "                    n = v\n",
        "\n",
        "\n",
        "            if n == stop_node or Graph_nodes[n] == None:\n",
        "                pass\n",
        "            else:\n",
        "                for (m, weight) in get_neighbors(n):\n",
        "                    #nodes 'm' not in first and last set are added to first\n",
        "                    #n is set its parent\n",
        "                    if m not in open_set and m not in closed_set:\n",
        "                        open_set.add(m)\n",
        "                        parents[m] = n\n",
        "                        g[m] = g[n] + weight\n",
        "\n",
        "\n",
        "                    #for each node m,compare its distance from start i.e g(m) to the\n",
        "                    #from start through n node\n",
        "                    else:\n",
        "                        if g[m] > g[n] + weight:\n",
        "                            #update g(m)\n",
        "                            g[m] = g[n] + weight\n",
        "                            #change parent of m to n\n",
        "                            parents[m] = n\n",
        "\n",
        "                            #if m in closed set,remove and add to open\n",
        "                            if m in closed_set:\n",
        "                                closed_set.remove(m)\n",
        "                                open_set.add(m)\n",
        "\n",
        "            if n == None:\n",
        "                print('Path does not exist!')\n",
        "                return None\n",
        "\n",
        "            # if the current node is the stop_node\n",
        "            # then we begin reconstructin the path from it to the start_node\n",
        "            if n == stop_node:\n",
        "                path = []\n",
        "\n",
        "                while parents[n] != n:\n",
        "                    path.append(n)\n",
        "                    n = parents[n]\n",
        "\n",
        "                path.append(start_node)\n",
        "\n",
        "                path.reverse()\n",
        "\n",
        "                print('Path found: {}'.format(path))\n",
        "                return path\n",
        "\n",
        "\n",
        "            # remove n from the open_list, and add it to closed_list\n",
        "            # because all of his neighbors were inspected\n",
        "            open_set.remove(n)\n",
        "            closed_set.add(n)\n",
        "\n",
        "        print('Path does not exist!')\n",
        "        return None\n",
        "\n",
        "#define fuction to return neighbor and its distance\n",
        "#from the passed node\n",
        "def get_neighbors(v):\n",
        "    if v in Graph_nodes:\n",
        "        return Graph_nodes[v]\n",
        "    else:\n",
        "        return None\n",
        "#for simplicity we ll consider heuristic distances given\n",
        "#and this function returns heuristic distance for all nodes\n",
        "def heuristic(n):\n",
        "        H_dist = {\n",
        "            'A': 11,\n",
        "            'B': 6,\n",
        "            'C': 99,\n",
        "            'D': 1,\n",
        "            'E': 7,\n",
        "            'G': 0,\n",
        "\n",
        "        }\n",
        "\n",
        "        return H_dist[n]\n",
        "\n",
        "#Describe your graph here\n",
        "Graph_nodes = {\n",
        "    'A': [('B', 2), ('E', 3)],\n",
        "    'B': [('C', 1),('G', 9)],\n",
        "    'C': None,\n",
        "    'E': [('D', 6)],\n",
        "    'D': [('G', 1)],\n",
        "\n",
        "}\n",
        "aStarAlgo('A', 'G')"
      ],
      "metadata": {
        "id": "mqz5L8ifLXlg",
        "colab": {
          "base_uri": "https://localhost:8080/"
        },
        "outputId": "16208f7f-61d8-423f-8cdb-a1d1eccc2a36"
      },
      "execution_count": null,
      "outputs": [
        {
          "output_type": "stream",
          "name": "stdout",
          "text": [
            "Path found: ['A', 'E', 'D', 'G']\n"
          ]
        },
        {
          "output_type": "execute_result",
          "data": {
            "text/plain": [
              "['A', 'E', 'D', 'G']"
            ]
          },
          "metadata": {},
          "execution_count": 4
        }
      ]
    },
    {
      "cell_type": "markdown",
      "source": [
        "#9 A bot to play tic tac toe"
      ],
      "metadata": {
        "id": "3lo6I4cdqLwU"
      }
    },
    {
      "cell_type": "code",
      "source": [
        "def print_board(board):\n",
        "    for row in board:\n",
        "        print(\" | \".join(row))\n",
        "        print(\"-\" * 5)\n",
        "\n",
        "def check_winner(board, player):\n",
        "    # Check rows, columns, and diagonals\n",
        "    for i in range(3):\n",
        "        if all(board[i][j] == player for j in range(3)) or all(board[j][i] == player for j in range(3)):\n",
        "            return True\n",
        "    if all(board[i][i] == player for i in range(3)) or all(board[i][2 - i] == player for i in range(3)):\n",
        "        return True\n",
        "    return False\n",
        "\n",
        "def is_board_full(board):\n",
        "    return all(board[i][j] != \" \" for i in range(3) for j in range(3))\n",
        "\n",
        "def tic_tac_toe():\n",
        "    board = [[\" \" for _ in range(3)] for _ in range(3)]\n",
        "    players = [\"X\", \"O\"]\n",
        "    current_player = players[0]\n",
        "\n",
        "    while True:\n",
        "        print_board(board)\n",
        "\n",
        "        # Get player move\n",
        "        while True:\n",
        "            row = int(input(\"Enter row (0, 1, or 2): \"))\n",
        "            col = int(input(\"Enter column (0, 1, or 2): \"))\n",
        "            if 0 <= row < 3 and 0 <= col < 3 and board[row][col] == \" \":\n",
        "                break\n",
        "            else:\n",
        "                print(\"Invalid move. Try again.\")\n",
        "\n",
        "        # Make the move\n",
        "        board[row][col] = current_player\n",
        "\n",
        "        # Check for a winner\n",
        "        if check_winner(board, current_player):\n",
        "            print_board(board)\n",
        "            print(f\"Player {current_player} wins!\")\n",
        "            break\n",
        "\n",
        "        # Check for a tie\n",
        "        if is_board_full(board):\n",
        "            print_board(board)\n",
        "            print(\"It's a tie!\")\n",
        "            break\n",
        "\n",
        "        # Switch to the other player\n",
        "        current_player = players[1] if current_player == players[0] else players[0]\n",
        "\n",
        "if __name__ == \"__main__\":\n",
        "    tic_tac_toe()"
      ],
      "metadata": {
        "colab": {
          "base_uri": "https://localhost:8080/"
        },
        "id": "h-oE4rFzqRYt",
        "outputId": "9a90c500-9a1f-4fa2-f9f6-0d3fffac3c87"
      },
      "execution_count": null,
      "outputs": [
        {
          "output_type": "stream",
          "name": "stdout",
          "text": [
            "  |   |  \n",
            "-----\n",
            "  |   |  \n",
            "-----\n",
            "  |   |  \n",
            "-----\n",
            "Enter row (0, 1, or 2): 1\n",
            "Enter column (0, 1, or 2): 1\n",
            "  |   |  \n",
            "-----\n",
            "  | X |  \n",
            "-----\n",
            "  |   |  \n",
            "-----\n",
            "Enter row (0, 1, or 2): 1\n",
            "Enter column (0, 1, or 2): 2\n",
            "  |   |  \n",
            "-----\n",
            "  | X | O\n",
            "-----\n",
            "  |   |  \n",
            "-----\n",
            "Enter row (0, 1, or 2): 3\n",
            "Enter column (0, 1, or 2): 1\n",
            "Invalid move. Try again.\n",
            "Enter row (0, 1, or 2): 1\n",
            "Enter column (0, 1, or 2): 0\n",
            "  |   |  \n",
            "-----\n",
            "X | X | O\n",
            "-----\n",
            "  |   |  \n",
            "-----\n",
            "Enter row (0, 1, or 2): 2\n",
            "Enter column (0, 1, or 2): 2\n",
            "  |   |  \n",
            "-----\n",
            "X | X | O\n",
            "-----\n",
            "  |   | O\n",
            "-----\n",
            "Enter row (0, 1, or 2): 1\n",
            "Enter column (0, 1, or 2): 2\n",
            "Invalid move. Try again.\n",
            "Enter row (0, 1, or 2): 0\n",
            "Enter column (0, 1, or 2): 1\n",
            "  | X |  \n",
            "-----\n",
            "X | X | O\n",
            "-----\n",
            "  |   | O\n",
            "-----\n",
            "Enter row (0, 1, or 2): 2\n",
            "Enter column (0, 1, or 2): 1\n",
            "  | X |  \n",
            "-----\n",
            "X | X | O\n",
            "-----\n",
            "  | O | O\n",
            "-----\n",
            "Enter row (0, 1, or 2): 0\n",
            "Enter column (0, 1, or 2): 2\n",
            "  | X | X\n",
            "-----\n",
            "X | X | O\n",
            "-----\n",
            "  | O | O\n",
            "-----\n",
            "Enter row (0, 1, or 2): 0\n",
            "Enter column (0, 1, or 2): 0\n",
            "O | X | X\n",
            "-----\n",
            "X | X | O\n",
            "-----\n",
            "  | O | O\n",
            "-----\n",
            "Enter row (0, 1, or 2): 2\n",
            "Enter column (0, 1, or 2): 0\n",
            "O | X | X\n",
            "-----\n",
            "X | X | O\n",
            "-----\n",
            "X | O | O\n",
            "-----\n",
            "Player X wins!\n"
          ]
        }
      ]
    },
    {
      "cell_type": "markdown",
      "source": [
        "10 Single layer neural networks, Multi layer neural networks"
      ],
      "metadata": {
        "id": "lu62eczx-DIT"
      }
    },
    {
      "cell_type": "code",
      "source": [
        "import numpy as np\n",
        "import tensorflow as tf\n",
        "from tensorflow.keras import layers, models\n",
        "from sklearn.datasets import load_iris\n",
        "from sklearn.model_selection import train_test_split\n",
        "from sklearn.preprocessing import StandardScaler\n",
        "from sklearn.metrics import accuracy_score\n",
        "\n",
        "# Load and preprocess the Iris dataset\n",
        "X, y = load_iris(return_X_y=True)\n",
        "X_train, X_test, y_train, y_test = train_test_split(X, y, test_size=0.2, random_state=42)\n",
        "X_train, X_test = StandardScaler().fit_transform(X_train), StandardScaler().fit_transform(X_test)\n",
        "\n",
        "# Define and compile a single-layer neural network\n",
        "model_single_layer = models.Sequential([layers.Dense(64, 'relu', input_shape=(4,)), layers.Dense(3, 'softmax')])\n",
        "model_single_layer.compile(optimizer='adam', loss='sparse_categorical_crossentropy', metrics=['accuracy'])\n",
        "model_single_layer.fit(X_train, y_train, epochs=15, validation_data=(X_test, y_test))\n",
        "\n",
        "# Evaluate the single-layer model\n",
        "single_layer_accuracy = accuracy_score(y_test, np.argmax(model_single_layer.predict(X_test), axis=1))\n",
        "print(f\"\\nSingle-layer Neural Network - Accuracy: {single_layer_accuracy}\")\n",
        "\n",
        "# Define and compile a multi-layer neural network\n",
        "model_multi_layer = models.Sequential([layers.Dense(64, 'relu', input_shape=(4,)), layers.Dense(32, 'relu'), layers.Dense(3, 'softmax')])\n",
        "model_multi_layer.compile(optimizer='adam', loss='sparse_categorical_crossentropy', metrics=['accuracy'])\n",
        "model_multi_layer.fit(X_train, y_train, epochs=15, validation_data=(X_test, y_test))\n",
        "\n",
        "# Evaluate the multi-layer model\n",
        "multi_layer_accuracy = accuracy_score(y_test, np.argmax(model_multi_layer.predict(X_test), axis=1))\n",
        "print(f\"\\nMulti-layer Neural Network - Accuracy: {multi_layer_accuracy}\")"
      ],
      "metadata": {
        "colab": {
          "base_uri": "https://localhost:8080/"
        },
        "id": "a_gEaBfyBQ_q",
        "outputId": "426fdf79-e413-4019-d02d-4220da483961"
      },
      "execution_count": null,
      "outputs": [
        {
          "output_type": "stream",
          "name": "stdout",
          "text": [
            "Epoch 1/15\n",
            "4/4 [==============================] - 1s 116ms/step - loss: 1.1275 - accuracy: 0.3583 - val_loss: 1.1029 - val_accuracy: 0.3667\n",
            "Epoch 2/15\n",
            "4/4 [==============================] - 0s 21ms/step - loss: 1.0607 - accuracy: 0.4417 - val_loss: 1.0337 - val_accuracy: 0.5000\n",
            "Epoch 3/15\n",
            "4/4 [==============================] - 0s 19ms/step - loss: 0.9992 - accuracy: 0.5083 - val_loss: 0.9700 - val_accuracy: 0.5000\n",
            "Epoch 4/15\n",
            "4/4 [==============================] - 0s 17ms/step - loss: 0.9414 - accuracy: 0.5500 - val_loss: 0.9118 - val_accuracy: 0.5667\n",
            "Epoch 5/15\n",
            "4/4 [==============================] - 0s 21ms/step - loss: 0.8873 - accuracy: 0.6333 - val_loss: 0.8588 - val_accuracy: 0.6667\n",
            "Epoch 6/15\n",
            "4/4 [==============================] - 0s 19ms/step - loss: 0.8391 - accuracy: 0.6667 - val_loss: 0.8095 - val_accuracy: 0.7667\n",
            "Epoch 7/15\n",
            "4/4 [==============================] - 0s 26ms/step - loss: 0.7959 - accuracy: 0.6833 - val_loss: 0.7637 - val_accuracy: 0.8000\n",
            "Epoch 8/15\n",
            "4/4 [==============================] - 0s 28ms/step - loss: 0.7532 - accuracy: 0.7333 - val_loss: 0.7222 - val_accuracy: 0.8000\n",
            "Epoch 9/15\n",
            "4/4 [==============================] - 0s 22ms/step - loss: 0.7170 - accuracy: 0.7333 - val_loss: 0.6834 - val_accuracy: 0.8000\n",
            "Epoch 10/15\n",
            "4/4 [==============================] - 0s 24ms/step - loss: 0.6820 - accuracy: 0.7583 - val_loss: 0.6486 - val_accuracy: 0.8333\n",
            "Epoch 11/15\n",
            "4/4 [==============================] - 0s 20ms/step - loss: 0.6513 - accuracy: 0.8167 - val_loss: 0.6166 - val_accuracy: 0.8667\n",
            "Epoch 12/15\n",
            "4/4 [==============================] - 0s 31ms/step - loss: 0.6240 - accuracy: 0.8167 - val_loss: 0.5872 - val_accuracy: 0.8667\n",
            "Epoch 13/15\n",
            "4/4 [==============================] - 0s 21ms/step - loss: 0.5976 - accuracy: 0.8167 - val_loss: 0.5607 - val_accuracy: 0.8667\n",
            "Epoch 14/15\n",
            "4/4 [==============================] - 0s 20ms/step - loss: 0.5745 - accuracy: 0.8167 - val_loss: 0.5362 - val_accuracy: 0.8667\n",
            "Epoch 15/15\n",
            "4/4 [==============================] - 0s 28ms/step - loss: 0.5535 - accuracy: 0.8167 - val_loss: 0.5136 - val_accuracy: 0.8667\n",
            "1/1 [==============================] - 0s 201ms/step\n",
            "\n",
            "Single-layer Neural Network - Accuracy: 0.8666666666666667\n",
            "Epoch 1/15\n",
            "4/4 [==============================] - 2s 198ms/step - loss: 1.0927 - accuracy: 0.4083 - val_loss: 1.0401 - val_accuracy: 0.3667\n",
            "Epoch 2/15\n",
            "4/4 [==============================] - 0s 53ms/step - loss: 1.0075 - accuracy: 0.5417 - val_loss: 0.9568 - val_accuracy: 0.6000\n",
            "Epoch 3/15\n",
            "4/4 [==============================] - 0s 46ms/step - loss: 0.9334 - accuracy: 0.6000 - val_loss: 0.8804 - val_accuracy: 0.7000\n",
            "Epoch 4/15\n",
            "4/4 [==============================] - 0s 26ms/step - loss: 0.8639 - accuracy: 0.6750 - val_loss: 0.8076 - val_accuracy: 0.7667\n",
            "Epoch 5/15\n",
            "4/4 [==============================] - 0s 25ms/step - loss: 0.7989 - accuracy: 0.7083 - val_loss: 0.7394 - val_accuracy: 0.7667\n",
            "Epoch 6/15\n",
            "4/4 [==============================] - 0s 32ms/step - loss: 0.7402 - accuracy: 0.7333 - val_loss: 0.6777 - val_accuracy: 0.7667\n",
            "Epoch 7/15\n",
            "4/4 [==============================] - 0s 45ms/step - loss: 0.6849 - accuracy: 0.7667 - val_loss: 0.6232 - val_accuracy: 0.8667\n",
            "Epoch 8/15\n",
            "4/4 [==============================] - 0s 32ms/step - loss: 0.6376 - accuracy: 0.7750 - val_loss: 0.5740 - val_accuracy: 0.8667\n",
            "Epoch 9/15\n",
            "4/4 [==============================] - 0s 55ms/step - loss: 0.5948 - accuracy: 0.7833 - val_loss: 0.5304 - val_accuracy: 0.8667\n",
            "Epoch 10/15\n",
            "4/4 [==============================] - 0s 41ms/step - loss: 0.5568 - accuracy: 0.7917 - val_loss: 0.4930 - val_accuracy: 0.8667\n",
            "Epoch 11/15\n",
            "4/4 [==============================] - 0s 37ms/step - loss: 0.5240 - accuracy: 0.8000 - val_loss: 0.4601 - val_accuracy: 0.8667\n",
            "Epoch 12/15\n",
            "4/4 [==============================] - 0s 48ms/step - loss: 0.4968 - accuracy: 0.8000 - val_loss: 0.4314 - val_accuracy: 0.9000\n",
            "Epoch 13/15\n",
            "4/4 [==============================] - 0s 50ms/step - loss: 0.4722 - accuracy: 0.8000 - val_loss: 0.4063 - val_accuracy: 0.9000\n",
            "Epoch 14/15\n",
            "4/4 [==============================] - 0s 52ms/step - loss: 0.4501 - accuracy: 0.8167 - val_loss: 0.3845 - val_accuracy: 0.9000\n",
            "Epoch 15/15\n",
            "4/4 [==============================] - 0s 76ms/step - loss: 0.4300 - accuracy: 0.8167 - val_loss: 0.3656 - val_accuracy: 0.9000\n",
            "1/1 [==============================] - 0s 263ms/step\n",
            "\n",
            "Multi-layer Neural Network - Accuracy: 0.9\n"
          ]
        }
      ]
    },
    {
      "cell_type": "markdown",
      "source": [
        "11 Building Linear Regressor using ANN"
      ],
      "metadata": {
        "id": "kicRiYHpBmpK"
      }
    },
    {
      "cell_type": "code",
      "source": [
        "import tensorflow as tf\n",
        "import numpy as np\n",
        "import matplotlib.pyplot as plt\n",
        "\n",
        "# Generate some random data for demonstration\n",
        "np.random.seed(0)\n",
        "X_train = np.random.rand(100, 1)\n",
        "y_train = 2 * X_train + 1 + 0.1 * np.random.randn(100, 1)\n",
        "\n",
        "# Build the model\n",
        "model = tf.keras.Sequential([\n",
        "    tf.keras.layers.Dense(units=1, input_shape=(1,))\n",
        "])\n",
        "\n",
        "# Compile the model\n",
        "model.compile(optimizer='sgd', loss='mean_squared_error')\n",
        "\n",
        "# Train the model\n",
        "history = model.fit(X_train, y_train, epochs=100, verbose=0)\n",
        "\n",
        "# Plot the training loss over epochs\n",
        "plt.plot(history.history['loss'])\n",
        "plt.xlabel('Epochs')\n",
        "plt.ylabel('Mean Squared Error Loss')\n",
        "plt.title('Training Loss')\n",
        "plt.show()\n",
        "\n",
        "# Make predictions on new data\n",
        "X_test = np.array([[0.2], [0.5], [0.8]])\n",
        "predictions = model.predict(X_test)\n",
        "\n",
        "# Print the predictions\n",
        "for i in range(len(X_test)):\n",
        "    print(f\"Input: {X_test[i][0]}, Predicted Output: {predictions[i][0]}\")"
      ],
      "metadata": {
        "colab": {
          "base_uri": "https://localhost:8080/",
          "height": 541
        },
        "id": "WodXdxhEBsL5",
        "outputId": "f8e8e1dd-58e3-4f65-e9aa-9aa8ef1b61c9"
      },
      "execution_count": null,
      "outputs": [
        {
          "output_type": "display_data",
          "data": {
            "text/plain": [
              "<Figure size 640x480 with 1 Axes>"
            ],
            "image/png": "[encoded data removed]"
          },
          "metadata": {}
        },
        {
          "output_type": "stream",
          "name": "stdout",
          "text": [
            "1/1 [==============================] - 0s 72ms/step\n",
            "Input: 0.2, Predicted Output: 1.5068470239639282\n",
            "Input: 0.5, Predicted Output: 2.0190227031707764\n",
            "Input: 0.8, Predicted Output: 2.531198501586914\n"
          ]
        }
      ]
    },
    {
      "cell_type": "markdown",
      "source": [
        "12 Image Classifier : An application of Deep Learning"
      ],
      "metadata": {
        "id": "G1mw7JZQByIz"
      }
    },
    {
      "cell_type": "code",
      "source": [
        "import tensorflow as tf\n",
        "from tensorflow.keras.models import Sequential\n",
        "from tensorflow.keras.layers import Conv2D, Dense, Flatten, MaxPooling2D\n",
        "# Load and preprocess the MNIST dataset\n",
        "mnist = tf.keras.datasets.mnist\n",
        "(X_train, y_train), (X_test, y_test) = mnist.load_data()\n",
        "X_train, X_test = X_train / 255.0, X_test / 255.0  # Normalize pixel values\n",
        "# Define the CNN model\n",
        "model = Sequential([\n",
        "    Conv2D(32, kernel_size=(3, 3), activation='relu', input_shape=(28, 28, 1)),\n",
        "    MaxPooling2D(pool_size=(2, 2)),\n",
        "    Conv2D(64, (3, 3), activation='relu'),\n",
        "    MaxPooling2D(pool_size=(2, 2)),\n",
        "    Flatten(),\n",
        "    Dense(64, activation='relu'),\n",
        "    Dense(10, activation='softmax')\n",
        "])\n",
        "# Compile the model\n",
        "model.compile(optimizer='adam',\n",
        "              loss='sparse_categorical_crossentropy',\n",
        "              metrics=['accuracy'])\n",
        "# Train the model\n",
        "model.fit(X_train, y_train, epochs=5, validation_split=0.1)\n",
        "\n",
        "# Evaluate the model\n",
        "test_loss, test_acc = model.evaluate(X_test, y_test)\n",
        "print(f'\\nTest accuracy: {test_acc}')"
      ],
      "metadata": {
        "colab": {
          "base_uri": "https://localhost:8080/"
        },
        "id": "dfezZ88zB42C",
        "outputId": "5f5752a3-968e-45b5-c7f5-aeee99454e94"
      },
      "execution_count": null,
      "outputs": [
        {
          "output_type": "stream",
          "name": "stdout",
          "text": [
            "Downloading data from https://storage.googleapis.com/tensorflow/tf-keras-datasets/mnist.npz\n",
            "11490434/11490434 [==============================] - 0s 0us/step\n",
            "Epoch 1/5\n",
            "1688/1688 [==============================] - 51s 29ms/step - loss: 0.1492 - accuracy: 0.9534 - val_loss: 0.0642 - val_accuracy: 0.9813\n",
            "Epoch 2/5\n",
            "1688/1688 [==============================] - 50s 30ms/step - loss: 0.0500 - accuracy: 0.9843 - val_loss: 0.0408 - val_accuracy: 0.9885\n",
            "Epoch 3/5\n",
            "1688/1688 [==============================] - 47s 28ms/step - loss: 0.0336 - accuracy: 0.9892 - val_loss: 0.0463 - val_accuracy: 0.9877\n",
            "Epoch 4/5\n",
            "1688/1688 [==============================] - 48s 28ms/step - loss: 0.0257 - accuracy: 0.9916 - val_loss: 0.0382 - val_accuracy: 0.9888\n",
            "Epoch 5/5\n",
            "1688/1688 [==============================] - 47s 28ms/step - loss: 0.0180 - accuracy: 0.9940 - val_loss: 0.0470 - val_accuracy: 0.9883\n",
            "313/313 [==============================] - 2s 7ms/step - loss: 0.0318 - accuracy: 0.9896\n",
            "\n",
            "Test accuracy: 0.9896000027656555\n"
          ]
        }
      ]
    }
  ]
}